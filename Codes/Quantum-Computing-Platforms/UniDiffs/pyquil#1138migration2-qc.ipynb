--- pyquil/pyquil#1138/after/migration2-qc.ipynb	2022-01-10 16:02:54.000000000 +0000
+++ pyquil/pyquil#1138/before/migration2-qc.ipynb	2022-01-10 16:02:54.000000000 +0000
@@ -227,7 +227,7 @@
    ],
    "source": [
     "import numpy as np\n",
-    "bitstring_array = np.vstack([bitstrings[q] for q in qc.qubits()]).T\n",
+    "bitstring_array = np.vstack(bitstrings[q] for q in qc.qubits()).T\n",
     "sums = np.sum(bitstring_array, axis=1)\n",
     "sums"
    ]
@@ -362,7 +362,7 @@
    ],
    "source": [
     "# Stacking everything\n",
-    "np.vstack([bitstrings[q] for q in qc.qubits()]).T"
+    "np.vstack(bitstrings[q] for q in qc.qubits()).T"
    ]
   },
   {
@@ -393,7 +393,7 @@
    "source": [
     "# Stacking what you want (contrast with above)\n",
     "qubits = [0, 1, 2]\n",
-    "np.vstack([bitstrings[q] for q in qubits]).T"
+    "np.vstack(bitstrings[q] for q in qubits).T"
    ]
   },
   {
@@ -448,7 +448,7 @@
     }
    ],
    "source": [
-    "bitstring_array = np.vstack([bitstrings[q] for q in qc.qubits()]).T\n",
+    "bitstring_array = np.vstack(bitstrings[q] for q in qc.qubits()).T\n",
     "sums = np.sum(bitstring_array, axis=1)\n",
     "sums"
    ]
@@ -627,7 +627,7 @@
     "\n",
     "from pyquil.api._qac import AbstractCompiler\n",
     "class MyLazyCompiler(AbstractCompiler):\n",
-    "    def quil_to_native_quil(self, program, *, protoquil=None):\n",
+    "    def quil_to_native_quil(self, program):\n",
     "        return program\n",
     "    \n",
     "    def native_quil_to_executable(self, nq_program):\n",
