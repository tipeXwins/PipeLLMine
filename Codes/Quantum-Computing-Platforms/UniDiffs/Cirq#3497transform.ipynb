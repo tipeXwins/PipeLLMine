--- Cirq/Cirq#3497/after/transform.ipynb	2022-01-10 16:02:54.000000000 +0000
+++ Cirq/Cirq#3497/before/transform.ipynb	2022-01-10 16:02:54.000000000 +0000
@@ -99,7 +99,6 @@
    },
    "outputs": [],
    "source": [
-    "import cirq\n",
     "c=cirq.Circuit()\n",
     "c.append(cirq.Moment([]))\n",
     "c.append(cirq.Moment([cirq.X(cirq.GridQubit(1,1))]))\n",
